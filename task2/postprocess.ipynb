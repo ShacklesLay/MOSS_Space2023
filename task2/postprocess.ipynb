{
 "cells": [
  {
   "cell_type": "code",
   "execution_count": 1,
   "metadata": {},
   "outputs": [],
   "source": [
    "import jsonlines"
   ]
  },
  {
   "cell_type": "code",
   "execution_count": 26,
   "metadata": {},
   "outputs": [],
   "source": [
    "map_rr = ['空间实体',\n",
    "    '参照实体',\n",
    "    '事件',\n",
    "    '事实性',\n",
    "    '时间','时间','时间',\n",
    "    '处所',\n",
    "    '起点',\n",
    "    '终点',\n",
    "    '方向',\n",
    "    '朝向',\n",
    "    '部件处所',\n",
    "    '部位',\n",
    "    '形状',\n",
    "    '路径',\n",
    "'距离','距离']\n",
    "\n",
    "def mapping(triple_18):\n",
    "    triple = []\n",
    "    for idx,element in enumerate(triple_18):\n",
    "        if element is not None:\n",
    "            new_element = {}\n",
    "            role = map_rr[idx]\n",
    "            new_element['role'] = role\n",
    "            if type(element) == dict: \n",
    "                new_element['fragment'] = element\n",
    "            elif type(element)==str:\n",
    "                new_element['label']=element\n",
    "            triple.append(new_element)\n",
    "    return triple"
   ]
  },
  {
   "cell_type": "code",
   "execution_count": 24,
   "metadata": {},
   "outputs": [],
   "source": [
    "data = []\n",
    "file_path = \"/remote-home/cktan/space/qlora/SpaCE2022/final/experiments/deberata_cpt/prediction_test.jsonl\"\n",
    "with open(file_path,'r') as f:\n",
    "    for item in jsonlines.Reader(f):\n",
    "        a = {'qid':item['qid'],\n",
    "             'context':item['context'],\n",
    "            #  'corefs':item['corefs'],\n",
    "            #  'non_corefs':item['non_corefs'],\n",
    "             \"results\":[mapping(triple) for triple in item['outputs']],\n",
    "             }\n",
    "        data.append(a)"
   ]
  },
  {
   "cell_type": "code",
   "execution_count": 25,
   "metadata": {},
   "outputs": [],
   "source": [
    "output_dir = \"./prediction_test.jsonl\"\n",
    "with jsonlines.open(output_dir, mode='w') as writer:\n",
    "    for item in data:\n",
    "        writer.write(item)"
   ]
  }
 ],
 "metadata": {
  "kernelspec": {
   "display_name": "moss",
   "language": "python",
   "name": "python3"
  },
  "language_info": {
   "codemirror_mode": {
    "name": "ipython",
    "version": 3
   },
   "file_extension": ".py",
   "mimetype": "text/x-python",
   "name": "python",
   "nbconvert_exporter": "python",
   "pygments_lexer": "ipython3",
   "version": "3.8.16"
  },
  "orig_nbformat": 4
 },
 "nbformat": 4,
 "nbformat_minor": 2
}
