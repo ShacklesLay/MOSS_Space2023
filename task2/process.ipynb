{
 "cells": [
  {
   "cell_type": "code",
   "execution_count": 1,
   "metadata": {},
   "outputs": [],
   "source": [
    "import jsonlines"
   ]
  },
  {
   "cell_type": "code",
   "execution_count": 2,
   "metadata": {},
   "outputs": [],
   "source": [
    "data_dir = \"./data/\""
   ]
  },
  {
   "cell_type": "code",
   "execution_count": 3,
   "metadata": {},
   "outputs": [],
   "source": [
    "file_path = data_dir + \"task2_dev.jsonl\"\n",
    "with open(file_path,'r') as f:\n",
    "    for item in jsonlines.Reader(f):\n",
    "        a = item\n",
    "        break"
   ]
  },
  {
   "cell_type": "code",
   "execution_count": 4,
   "metadata": {},
   "outputs": [
    {
     "data": {
      "text/plain": [
       "{'qid': '2-dev-1530',\n",
       " 'context': '老妇人跪在那坑里，用手舀出那些水。舀几下，她就得休息一会儿。到底，她把坑里的水全舀干了。于是她回到那死者旁边，两手抄在死者的腋窝下，把他拖走。',\n",
       " 'corefs': [[{'text': '老妇人', 'idxes': [0, 1, 2]},\n",
       "   {'text': '她', 'idxes': [21]},\n",
       "   {'text': '她', 'idxes': [33]},\n",
       "   {'text': '她', 'idxes': [46]}],\n",
       "  [{'text': '死者', 'idxes': [59, 60]}, {'text': '他', 'idxes': [67]}]],\n",
       " 'non_corefs': [],\n",
       " 'results': [[{'role': '空间实体',\n",
       "    'fragment': {'text': '老妇人', 'idxes': [0, 1, 2]}},\n",
       "   {'role': '事件', 'fragment': {'text': '跪', 'idxes': [3]}},\n",
       "   {'role': '处所', 'fragment': {'text': '在那坑里', 'idxes': [4, 5, 6, 7]}}],\n",
       "  [{'role': '空间实体', 'fragment': {'text': '那些水', 'idxes': [13, 14, 15]}},\n",
       "   {'role': '事件', 'fragment': {'text': '舀', 'idxes': [11]}},\n",
       "   {'role': '起点', 'fragment': {'text': '在那坑里', 'idxes': [4, 5, 6, 7]}},\n",
       "   {'role': '方向', 'fragment': {'text': '出', 'idxes': [12]}}],\n",
       "  [{'role': '空间实体', 'fragment': {'text': '水', 'idxes': [38]}},\n",
       "   {'role': '事件', 'fragment': {'text': '舀', 'idxes': [40]}},\n",
       "   {'role': '事实性', 'label': '假'},\n",
       "   {'role': '处所', 'fragment': {'text': '坑里', 'idxes': [35, 36]}}],\n",
       "  [{'role': '空间实体', 'fragment': {'text': '她', 'idxes': [46]}},\n",
       "   {'role': '时间', 'fragment': {'text': '舀', 'idxes': [40]}, 'label': '之后'},\n",
       "   {'role': '终点',\n",
       "    'fragment': {'text': '到那死者旁边', 'idxes': [48, 49, 50, 51, 52, 53]}},\n",
       "   {'role': '方向', 'fragment': {'text': '回', 'idxes': [47]}}],\n",
       "  [{'role': '空间实体', 'fragment': {'text': '她', 'idxes': [46]}},\n",
       "   {'role': '事件', 'fragment': {'text': '抄', 'idxes': [57]}},\n",
       "   {'role': '处所',\n",
       "    'fragment': {'text': '在死者的腋窝下', 'idxes': [58, 59, 60, 61, 62, 63, 64]}},\n",
       "   {'role': '部位', 'fragment': {'text': '两手', 'idxes': [55, 56]}}]]}"
      ]
     },
     "execution_count": 4,
     "metadata": {},
     "output_type": "execute_result"
    }
   ],
   "source": [
    "a"
   ]
  },
  {
   "cell_type": "code",
   "execution_count": 5,
   "metadata": {},
   "outputs": [],
   "source": [
    "map_r = {\n",
    "    '空间实体':0,\n",
    "    '参照实体':1,\n",
    "    '事件':2,\n",
    "    '事实性':3,\n",
    "    # '时间':4,5,6\n",
    "    '处所':7,\n",
    "    '起点':8,\n",
    "    '终点':9,\n",
    "    '方向':10,\n",
    "    '朝向':11,\n",
    "    '部件处所':12,\n",
    "    '部位':13,\n",
    "    '形状':14,\n",
    "    '路径':14,\n",
    "    # '距离':16,17\n",
    "}\n",
    "def mapping(triple):\n",
    "    triple_18 = [None for _ in range(18)]\n",
    "    for element in triple:\n",
    "        role = element['role']\n",
    "        if role == '时间':\n",
    "            if element.get('fragment') is not None:\n",
    "                triple_18[4] = element['fragment']\n",
    "            if element.get('label') is not None:\n",
    "                triple_18[6] = element['label']\n",
    "        elif role==\"距离\":\n",
    "            if element.get('fragment') is not None:\n",
    "                triple_18[16] = element['fragment']\n",
    "            if element.get('label') is not None:\n",
    "                triple_18[17] = element['label']\n",
    "        elif role=='事实性':\n",
    "            triple_18[3]=element['label']\n",
    "        else:\n",
    "            triple_18[map_r[role]] = element['fragment']\n",
    "    return triple_18\n",
    "            "
   ]
  },
  {
   "cell_type": "code",
   "execution_count": 11,
   "metadata": {},
   "outputs": [],
   "source": [
    "data = []\n",
    "file_name = \"task2_train.jsonl\"\n",
    "file_path = data_dir + file_name\n",
    "with open(file_path,'r') as f:\n",
    "    for item in jsonlines.Reader(f):\n",
    "        a = {'qid':item['qid'],\n",
    "             'context':item['context'],\n",
    "             'corefs':item['corefs'],\n",
    "             'non_corefs':item['non_corefs'],\n",
    "             'outputs':[mapping(triple) for triple in item['results']],\n",
    "             }\n",
    "        data.append(a)"
   ]
  },
  {
   "cell_type": "code",
   "execution_count": 12,
   "metadata": {},
   "outputs": [],
   "source": [
    "output_dir = \"./processed_data/\"\n",
    "with jsonlines.open(output_dir+'processed_'+file_name, mode='w') as writer:\n",
    "    for item in data:\n",
    "        writer.write(item)"
   ]
  }
 ],
 "metadata": {
  "kernelspec": {
   "display_name": "moss",
   "language": "python",
   "name": "python3"
  },
  "language_info": {
   "codemirror_mode": {
    "name": "ipython",
    "version": 3
   },
   "file_extension": ".py",
   "mimetype": "text/x-python",
   "name": "python",
   "nbconvert_exporter": "python",
   "pygments_lexer": "ipython3",
   "version": "3.8.16"
  },
  "orig_nbformat": 4
 },
 "nbformat": 4,
 "nbformat_minor": 2
}
